{
 "cells": [
  {
   "cell_type": "markdown",
   "metadata": {},
   "source": [
    "### Decompress"
   ]
  },
  {
   "cell_type": "code",
   "execution_count": 9,
   "metadata": {},
   "outputs": [],
   "source": [
    "import tarfile\n",
    "\n",
    "fname = 'example/20211129_2021231.tar.gz' # Example on the latest (daily) package of XML files\n",
    "\n",
    "if fname.endswith(\"tar.gz\"):\n",
    "\n",
    "    tar = tarfile.open(fname, \"r:gz\")\n",
    "    folder_name  = tar.getnames()[0]\n",
    "    file_names = tar.getnames()[1:]\n",
    "    tar.extractall('./') # maybe we can use an extraction folder if we want to decompress and combine multipe files\n",
    "    tar.close()"
   ]
  },
  {
   "cell_type": "markdown",
   "metadata": {},
   "source": [
    "### Ectract and save to CSV file"
   ]
  },
  {
   "cell_type": "code",
   "execution_count": null,
   "metadata": {},
   "outputs": [],
   "source": [
    "from lxml import etree\n",
    "\n",
    "for xml in file_names:\n",
    "      \n",
    "    tree = etree.parse(xml)\n",
    "    root = tree.getroot()\n",
    "\n",
    "    nsmap = root.nsmap\n",
    "    none = root.nsmap[None]\n",
    "    version = list(root.nsmap)[3]\n",
    "    n20xx = root.nsmap[version]\n",
    "    NMSP = {\"ted\": none, \"n20xx\": n20xx}\n",
    "        \n",
    "    if  root.xpath('ted:CODED_DATA_SECTION/ted:CODIF_DATA/ted:TD_DOCUMENT_TYPE/@CODE', namespaces=NMSP) == ['7']: # check for Contract award notice only (Code 7)\n",
    "        \n",
    "        for item in root.findall('ted:FORM_SECTION/ted:F03_2014[@CATEGORY = \"ORIGINAL\"]/ted:AWARD_CONTRACT', namespaces=NMSP): # loop over all awardes item / lots in the AWARD_CONTRACT section\n",
    "\n",
    "            try:\n",
    "                value = item.findtext(\"ted:AWARDED_CONTRACT/ted:VALUES/ted:VAL_TOTAL\", namespaces=NMSP) # extract value\n",
    "            except: continue\n",
    "                \n",
    "            try:\n",
    "                contractor = item.findtext('ted:AWARDED_CONTRACT/ted:CONTRACTORS/ted:CONTRACTOR/ted:ADDRESS_CONTRACTOR/ted:OFFICIALNAME', namespaces=NMSP) # extract contractor\n",
    "            except: continue\n",
    "                \n",
    "            try:\n",
    "                currency = item.xpath('ted:AWARDED_CONTRACT/ted:VALUES/ted:VAL_TOTAL/@CURRENCY', namespaces=NMSP) # extract currency\n",
    "            except: continue\n",
    "\n",
    "            try:\n",
    "                cpv = root.xpath('ted:FORM_SECTION/ted:F03_2014[@CATEGORY = \"ORIGINAL\"]/ted:OBJECT_CONTRACT/ted:CPV_MAIN/ted:CPV_CODE/@CODE', namespaces=NMSP) # CPV Code\n",
    "                type = root.xpath('ted:FORM_SECTION/ted:F03_2014[@CATEGORY = \"ORIGINAL\"]/ted:OBJECT_CONTRACT/ted:TYPE_CONTRACT/@CTYPE', namespaces=NMSP) # extract currency\n",
    "            except: continue\n",
    "\n",
    "            try:\n",
    "                doc_ID = root.get('DOC_ID', default=None) # extract document ID\n",
    "                contractee = root.findtext('ted:FORM_SECTION/ted:F03_2014[@CATEGORY = \"ORIGINAL\"]/ted:CONTRACTING_BODY/ted:ADDRESS_CONTRACTING_BODY/ted:OFFICIALNAME', namespaces=NMSP) # extract contractee\n",
    "                nuts = root.xpath('ted:FORM_SECTION/ted:F03_2014[@CATEGORY = \"ORIGINAL\"]/ted:CONTRACTING_BODY/ted:ADDRESS_CONTRACTING_BODY/n20xx:NUTS/@CODE', namespaces=NMSP) # NUTS\n",
    "                country = root.xpath('ted:FORM_SECTION/ted:F03_2014[@CATEGORY = \"ORIGINAL\"]/ted:CONTRACTING_BODY/ted:ADDRESS_CONTRACTING_BODY/ted:COUNTRY/@VALUE', namespaces=NMSP) # country\n",
    "                \n",
    "            except: continue\n",
    "            \n",
    "            try:\n",
    "                with open('my_file.csv', 'a') as file:\n",
    "                    file.write(f'{doc_ID},{contractee.replace(\",\", \"\")},{contractor.replace(\",\", \"\")},{cpv[0]},{type[0]},{country[0]},{nuts[0]},{float(value)},{currency[0]}\\n') # store everything in a CSV File\n",
    "            except:\n",
    "                pass"
   ]
  },
  {
   "cell_type": "code",
   "execution_count": 14,
   "metadata": {},
   "outputs": [],
   "source": [
    "from lxml import etree\n",
    "\n",
    "NMSP = {\"ted\": \"http://publications.europa.eu/resource/schema/ted/R2.0.9/publication\"}\n",
    "\n",
    "for xml in file_names:\n",
    "      \n",
    "    tree = etree.parse(xml)\n",
    "    root = tree.getroot()\n",
    "\n",
    "    doc_ID = []\n",
    "    contractee = []\n",
    "\n",
    "    if root.nsmap[None]  == 'http://publications.europa.eu/resource/schema/ted/R2.0.9/publication': # check from version R2.0.9 in Namespace\n",
    "        \n",
    "        if  root.xpath('ted:CODED_DATA_SECTION/ted:CODIF_DATA/ted:TD_DOCUMENT_TYPE/@CODE', namespaces=NMSP) == ['7']: # check for Contract award notice only (Code 7)\n",
    "\n",
    "            \n",
    "            for item in root.findall('ted:FORM_SECTION/ted:F03_2014[@CATEGORY = \"ORIGINAL\"]/ted:AWARD_CONTRACT', namespaces=NMSP): # loop over all awardes item / lots in the AWARD_CONTRACT section\n",
    "                \n",
    "                \n",
    "                value = []\n",
    "                try:\n",
    "                    value = item.findtext(\"ted:AWARDED_CONTRACT/ted:VALUES/ted:VAL_TOTAL\", namespaces=NMSP) # extract value\n",
    "                except: continue\n",
    "                contractor = []  \n",
    "                try:\n",
    "                    contractor = item.findtext('ted:AWARDED_CONTRACT/ted:CONTRACTORS/ted:CONTRACTOR/ted:ADDRESS_CONTRACTOR/ted:OFFICIALNAME', namespaces=NMSP) # extract contractor\n",
    "                except: continue\n",
    "                currency = []   \n",
    "                try:\n",
    "                    currency = item.xpath('ted:AWARDED_CONTRACT/ted:VALUES/ted:VAL_TOTAL/@CURRENCY', namespaces=NMSP) # extract currency\n",
    "                except: continue\n",
    "                doc_ID = []\n",
    "                contractee = []\n",
    "                try:\n",
    "                    doc_ID = root.get('DOC_ID', default=None) # extract document ID\n",
    "                    contractee = root.findtext('ted:FORM_SECTION/ted:F03_2014[@CATEGORY = \"ORIGINAL\"]/ted:CONTRACTING_BODY/ted:ADDRESS_CONTRACTING_BODY/ted:OFFICIALNAME', namespaces=NMSP) # extract contractee\n",
    "                except: continue\n",
    "                \n",
    "                try:\n",
    "                    with open('my_file.csv', 'a') as file:\n",
    "                        file.write(f'{doc_ID},{contractee.replace(\",\", \"\")},{contractor.replace(\",\", \"\")},{float(value)},{currency}\"\\n\"') # store everything in a CSV File\n",
    "                except:\n",
    "                    pass"
   ]
  }
 ],
 "metadata": {
  "interpreter": {
   "hash": "82b2f7e49a54dfc9e19a85f649bd0ef29fcdbc801e6c42932c693ea93cc5c6ab"
  },
  "kernelspec": {
   "display_name": "Python 3.8.12 64-bit ('base': conda)",
   "language": "python",
   "name": "python3"
  },
  "language_info": {
   "codemirror_mode": {
    "name": "ipython",
    "version": 3
   },
   "file_extension": ".py",
   "mimetype": "text/x-python",
   "name": "python",
   "nbconvert_exporter": "python",
   "pygments_lexer": "ipython3",
   "version": "3.8.12"
  },
  "orig_nbformat": 4
 },
 "nbformat": 4,
 "nbformat_minor": 2
}
